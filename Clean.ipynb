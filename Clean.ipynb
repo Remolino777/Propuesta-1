{
 "cells": [
  {
   "cell_type": "code",
   "execution_count": 1,
   "metadata": {},
   "outputs": [],
   "source": [
    "import pandas as pd\n",
    "import matplotlib.pyplot as plt\n",
    "import plotly.graph_objects as go\n"
   ]
  },
  {
   "cell_type": "code",
   "execution_count": 2,
   "metadata": {},
   "outputs": [],
   "source": [
    "# Importamso los datos y creamos eldata frame\n",
    "\n",
    "df = pd.read_csv('BBDD_Hospitalización.csv', encoding='ISO-8859-1')\n"
   ]
  },
  {
   "cell_type": "markdown",
   "metadata": {},
   "source": [
    "<div style=\"text-align: center; color: yellowgreen; font-size:32px; padding:20px \">\n",
    ".       EDA      .  <BR>     \n",
    "\n",
    "</div>"
   ]
  },
  {
   "cell_type": "code",
   "execution_count": 3,
   "metadata": {},
   "outputs": [
    {
     "name": "stdout",
     "output_type": "stream",
     "text": [
      "<class 'pandas.core.frame.DataFrame'>\n",
      "RangeIndex: 568 entries, 0 to 567\n",
      "Data columns (total 20 columns):\n",
      " #   Column                                                                     Non-Null Count  Dtype  \n",
      "---  ------                                                                     --------------  -----  \n",
      " 0   EDAD                                                                       568 non-null    int64  \n",
      " 1   DIABETES                                                                   568 non-null    object \n",
      " 2   HOSPITALIZACIÓN ULTIMO MES                                                 568 non-null    object \n",
      " 3   PSA                                                                        564 non-null    float64\n",
      " 4   BIOPSIAS PREVIAS                                                           566 non-null    object \n",
      " 5   VOLUMEN PROSTATICO                                                         567 non-null    object \n",
      " 6   ANTIBIOTICO UTILIAZADO EN LA PROFILAXIS                                    568 non-null    object \n",
      " 7   NUMERO DE MUESTRAS TOMADAS                                                 568 non-null    int64  \n",
      " 8   CUP                                                                        567 non-null    object \n",
      " 9   ENF. CRONICA PULMONAR OBSTRUCTIVA                                          566 non-null    object \n",
      " 10  BIOPSIA                                                                    568 non-null    object \n",
      " 11  NUMERO DE DIAS POST BIOPSIA EN QUE SE PRESENTA LA COMPLICACIÓN INFECCIOSA  568 non-null    object \n",
      " 12  FIEBRE                                                                     568 non-null    object \n",
      " 13  ITU                                                                        568 non-null    object \n",
      " 14  TIPO DE CULTIVO                                                            568 non-null    object \n",
      " 15  AGENTE AISLADO                                                             551 non-null    object \n",
      " 16  PATRON DE RESISTENCIA                                                      568 non-null    object \n",
      " 17  HOSPITALIZACION                                                            565 non-null    object \n",
      " 18  DIAS HOSPITALIZACION MQ                                                    568 non-null    int64  \n",
      " 19  DIAS HOSPITALIZACIÓN UPC                                                   568 non-null    int64  \n",
      "dtypes: float64(1), int64(4), object(15)\n",
      "memory usage: 88.9+ KB\n"
     ]
    }
   ],
   "source": [
    "df.info()"
   ]
  },
  {
   "cell_type": "markdown",
   "metadata": {},
   "source": [
    "<div style=\"color: #CBE364; font-size:24px\">\n",
    "Remplazar valores 'Not a Number' (nan) por el string 'sin dato'<br> <br>\n",
    "</div>\n",
    "\n",
    "<div style=\"color: #CBE364; font-size:14px\">\n",
    "Como podemos observar en la exploracion el dataframe tiene algunos valores NaN. Una opcion seria deszacernos de esas <br>\n",
    "filas con valores 'nan' pero por tratarce de un datagrafeme pequeno remplazaremos los valores por 'sin dato'\n",
    "\n",
    "\n",
    "</div>"
   ]
  },
  {
   "cell_type": "code",
   "execution_count": 4,
   "metadata": {},
   "outputs": [
    {
     "data": {
      "text/plain": [
       "count    564.000000\n",
       "mean      13.271401\n",
       "std       15.668966\n",
       "min        0.600000\n",
       "25%        5.600000\n",
       "50%        8.000000\n",
       "75%       15.000000\n",
       "max      100.000000\n",
       "Name: PSA, dtype: float64"
      ]
     },
     "execution_count": 4,
     "metadata": {},
     "output_type": "execute_result"
    }
   ],
   "source": [
    "df['PSA'].describe()"
   ]
  },
  {
   "cell_type": "markdown",
   "metadata": {},
   "source": [
    "<div style=\"color: #CBE364; font-size:24px\">\n",
    "CRITERIO PARA VALORES 'NAN' <br> <br>\n",
    "</div>\n",
    "\n",
    "<div style=\"color: #CBE364; font-size:14px\">\n",
    "Los valores del antigeno prostatico especifico 'PSA' es el pricipal sujeto de estudio en el modelo.<br> \n",
    "Por tal motivo eliminare las filas de la columna que tengan valores NaN ya que la relacion principal con los <br>\n",
    "otros valores no se encuentra.\n",
    "\n",
    "</div>"
   ]
  },
  {
   "cell_type": "code",
   "execution_count": 5,
   "metadata": {},
   "outputs": [],
   "source": [
    "exepto_PSA = df.columns.difference(['PSA'])\n",
    "df[exepto_PSA] = df[exepto_PSA].fillna('sin dato')\n"
   ]
  },
  {
   "cell_type": "code",
   "execution_count": 6,
   "metadata": {},
   "outputs": [],
   "source": [
    "df = df.dropna() #Eliminamos las filas de con valores nan. "
   ]
  },
  {
   "cell_type": "code",
   "execution_count": 7,
   "metadata": {},
   "outputs": [
    {
     "name": "stdout",
     "output_type": "stream",
     "text": [
      "(564, 20)\n"
     ]
    }
   ],
   "source": [
    "print(df.shape)"
   ]
  },
  {
   "cell_type": "code",
   "execution_count": 8,
   "metadata": {},
   "outputs": [
    {
     "name": "stdout",
     "output_type": "stream",
     "text": [
      "<class 'pandas.core.frame.DataFrame'>\n",
      "Index: 564 entries, 0 to 567\n",
      "Data columns (total 20 columns):\n",
      " #   Column                                                                     Non-Null Count  Dtype  \n",
      "---  ------                                                                     --------------  -----  \n",
      " 0   EDAD                                                                       564 non-null    int64  \n",
      " 1   DIABETES                                                                   564 non-null    object \n",
      " 2   HOSPITALIZACIÓN ULTIMO MES                                                 564 non-null    object \n",
      " 3   PSA                                                                        564 non-null    float64\n",
      " 4   BIOPSIAS PREVIAS                                                           564 non-null    object \n",
      " 5   VOLUMEN PROSTATICO                                                         564 non-null    object \n",
      " 6   ANTIBIOTICO UTILIAZADO EN LA PROFILAXIS                                    564 non-null    object \n",
      " 7   NUMERO DE MUESTRAS TOMADAS                                                 564 non-null    int64  \n",
      " 8   CUP                                                                        564 non-null    object \n",
      " 9   ENF. CRONICA PULMONAR OBSTRUCTIVA                                          564 non-null    object \n",
      " 10  BIOPSIA                                                                    564 non-null    object \n",
      " 11  NUMERO DE DIAS POST BIOPSIA EN QUE SE PRESENTA LA COMPLICACIÓN INFECCIOSA  564 non-null    object \n",
      " 12  FIEBRE                                                                     564 non-null    object \n",
      " 13  ITU                                                                        564 non-null    object \n",
      " 14  TIPO DE CULTIVO                                                            564 non-null    object \n",
      " 15  AGENTE AISLADO                                                             564 non-null    object \n",
      " 16  PATRON DE RESISTENCIA                                                      564 non-null    object \n",
      " 17  HOSPITALIZACION                                                            564 non-null    object \n",
      " 18  DIAS HOSPITALIZACION MQ                                                    564 non-null    int64  \n",
      " 19  DIAS HOSPITALIZACIÓN UPC                                                   564 non-null    int64  \n",
      "dtypes: float64(1), int64(4), object(15)\n",
      "memory usage: 92.5+ KB\n"
     ]
    }
   ],
   "source": [
    "#Verificamos nuevamente el dataframe para encontrar valores 'nan'\n",
    "df.info()"
   ]
  },
  {
   "cell_type": "code",
   "execution_count": 9,
   "metadata": {},
   "outputs": [
    {
     "data": {
      "text/html": [
       "<div>\n",
       "<style scoped>\n",
       "    .dataframe tbody tr th:only-of-type {\n",
       "        vertical-align: middle;\n",
       "    }\n",
       "\n",
       "    .dataframe tbody tr th {\n",
       "        vertical-align: top;\n",
       "    }\n",
       "\n",
       "    .dataframe thead th {\n",
       "        text-align: right;\n",
       "    }\n",
       "</style>\n",
       "<table border=\"1\" class=\"dataframe\">\n",
       "  <thead>\n",
       "    <tr style=\"text-align: right;\">\n",
       "      <th></th>\n",
       "      <th>EDAD</th>\n",
       "      <th>PSA</th>\n",
       "      <th>NUMERO DE MUESTRAS TOMADAS</th>\n",
       "      <th>DIAS HOSPITALIZACION MQ</th>\n",
       "      <th>DIAS HOSPITALIZACIÓN UPC</th>\n",
       "    </tr>\n",
       "  </thead>\n",
       "  <tbody>\n",
       "    <tr>\n",
       "      <th>count</th>\n",
       "      <td>564.000000</td>\n",
       "      <td>564.000000</td>\n",
       "      <td>564.000000</td>\n",
       "      <td>564.000000</td>\n",
       "      <td>564.000000</td>\n",
       "    </tr>\n",
       "    <tr>\n",
       "      <th>mean</th>\n",
       "      <td>63.939716</td>\n",
       "      <td>13.271401</td>\n",
       "      <td>12.996454</td>\n",
       "      <td>0.161348</td>\n",
       "      <td>0.014184</td>\n",
       "    </tr>\n",
       "    <tr>\n",
       "      <th>std</th>\n",
       "      <td>9.270166</td>\n",
       "      <td>15.668966</td>\n",
       "      <td>3.916081</td>\n",
       "      <td>0.953927</td>\n",
       "      <td>0.197167</td>\n",
       "    </tr>\n",
       "    <tr>\n",
       "      <th>min</th>\n",
       "      <td>39.000000</td>\n",
       "      <td>0.600000</td>\n",
       "      <td>4.000000</td>\n",
       "      <td>0.000000</td>\n",
       "      <td>0.000000</td>\n",
       "    </tr>\n",
       "    <tr>\n",
       "      <th>25%</th>\n",
       "      <td>59.000000</td>\n",
       "      <td>5.600000</td>\n",
       "      <td>12.000000</td>\n",
       "      <td>0.000000</td>\n",
       "      <td>0.000000</td>\n",
       "    </tr>\n",
       "    <tr>\n",
       "      <th>50%</th>\n",
       "      <td>64.000000</td>\n",
       "      <td>8.000000</td>\n",
       "      <td>12.000000</td>\n",
       "      <td>0.000000</td>\n",
       "      <td>0.000000</td>\n",
       "    </tr>\n",
       "    <tr>\n",
       "      <th>75%</th>\n",
       "      <td>69.000000</td>\n",
       "      <td>15.000000</td>\n",
       "      <td>12.000000</td>\n",
       "      <td>0.000000</td>\n",
       "      <td>0.000000</td>\n",
       "    </tr>\n",
       "    <tr>\n",
       "      <th>max</th>\n",
       "      <td>151.000000</td>\n",
       "      <td>100.000000</td>\n",
       "      <td>24.000000</td>\n",
       "      <td>12.000000</td>\n",
       "      <td>3.000000</td>\n",
       "    </tr>\n",
       "  </tbody>\n",
       "</table>\n",
       "</div>"
      ],
      "text/plain": [
       "             EDAD         PSA  NUMERO DE MUESTRAS TOMADAS  \\\n",
       "count  564.000000  564.000000                  564.000000   \n",
       "mean    63.939716   13.271401                   12.996454   \n",
       "std      9.270166   15.668966                    3.916081   \n",
       "min     39.000000    0.600000                    4.000000   \n",
       "25%     59.000000    5.600000                   12.000000   \n",
       "50%     64.000000    8.000000                   12.000000   \n",
       "75%     69.000000   15.000000                   12.000000   \n",
       "max    151.000000  100.000000                   24.000000   \n",
       "\n",
       "       DIAS HOSPITALIZACION MQ  DIAS HOSPITALIZACIÓN UPC  \n",
       "count               564.000000                564.000000  \n",
       "mean                  0.161348                  0.014184  \n",
       "std                   0.953927                  0.197167  \n",
       "min                   0.000000                  0.000000  \n",
       "25%                   0.000000                  0.000000  \n",
       "50%                   0.000000                  0.000000  \n",
       "75%                   0.000000                  0.000000  \n",
       "max                  12.000000                  3.000000  "
      ]
     },
     "execution_count": 9,
     "metadata": {},
     "output_type": "execute_result"
    }
   ],
   "source": [
    "df.describe()"
   ]
  },
  {
   "cell_type": "code",
   "execution_count": 10,
   "metadata": {},
   "outputs": [
    {
     "name": "stdout",
     "output_type": "stream",
     "text": [
      "DIABETES\n",
      "NO    501\n",
      "SI     63\n",
      "Name: count, dtype: int64 HOSPITALIZACIÓN ULTIMO MES\n",
      "NO    559\n",
      "SI      5\n",
      "Name: count, dtype: int64 BIOPSIAS PREVIAS\n",
      "NO          507\n",
      "SI           55\n",
      "sin dato      2\n",
      "Name: count, dtype: int64 VOLUMEN PROSTATICO\n",
      "SI          406\n",
      "NO          157\n",
      "sin dato      1\n",
      "Name: count, dtype: int64 ANTIBIOTICO UTILIAZADO EN LA PROFILAXIS\n",
      "FLUOROQUINOLONA_AMINOGLICOSIDO    444\n",
      "CEFALOSPORINA_AMINOGLUCOCIDO       56\n",
      "OTROS                              42\n",
      "OROQUINOLONAS                      18\n",
      "FLUOROQUINOLONA_AMINOGLICÓSIDO      4\n",
      "Name: count, dtype: int64 CUP\n",
      "NO          559\n",
      "SI            4\n",
      "sin dato      1\n",
      "Name: count, dtype: int64 ENF. CRONICA PULMONAR OBSTRUCTIVA\n",
      "NO          542\n",
      "SI           12\n",
      "SI, EPOC      4\n",
      "SI, ASMA      4\n",
      "sin dato      2\n",
      "Name: count, dtype: int64 BIOPSIA\n",
      "NEG                                           320\n",
      "ADENOCARCINOMA GLEASON 7                      106\n",
      "ADENOCARCINOMA GLEASON 6                       38\n",
      "ADENOCARCINOMA GLEASON 8                       21\n",
      "ADENOCARCINOMA GLEASON 9                       20\n",
      "ADENOCARCINOMA GLEASON 6                       16\n",
      "PROSTATITIS                                    14\n",
      "HIPERPLASIA PROSTATICA                         13\n",
      "ADENOCARCINOMA GLEASON 7                       10\n",
      "ADENOCARCINOMA GLEASON 10                       4\n",
      "CARCINOMA INDIFERENCIADO DE CELULAS CLARAS      2\n",
      "Name: count, dtype: int64 FIEBRE\n",
      "NO    528\n",
      "SI     36\n",
      "Name: count, dtype: int64 ITU\n",
      "NO    558\n",
      "SI      6\n",
      "Name: count, dtype: int64 TIPO DE CULTIVO\n",
      "NO                          556\n",
      "UROCULTIVO                    4\n",
      "HEMOCULTIVO                   2\n",
      "HEMOCULTIVO Y UROCULTIVO      2\n",
      "Name: count, dtype: int64 AGENTE AISLADO\n",
      "NO                        539\n",
      "sin dato                   17\n",
      "E.COLI                      6\n",
      "PSEUDOMONAS AERUGINOSA      2\n",
      "Name: count, dtype: int64 PATRON DE RESISTENCIA\n",
      "NO                                                                                 557\n",
      "RESISTENTE A AMPI, CIPRO Y GENTA                                                     2\n",
      "RESISTENTE A AMPI, SULFA, CEFADROXILO, CEFUROXIMO, CIPRO Y CEFEPIME, CEFOTAXIMA      2\n",
      "MULTI SENSIBLE                                                                       2\n",
      " AMPI R, CIPRO R, GENTA R, SULFA M R                                                 1\n",
      "Name: count, dtype: int64 HOSPITALIZACION\n",
      "NO          538\n",
      "SI           23\n",
      "sin dato      3\n",
      "Name: count, dtype: int64\n"
     ]
    }
   ],
   "source": [
    "# Exploramos los valores unicos en las columnas categoricas para encontrar algun error. \n",
    "# columnas categoricas valores unicos (cc_vu)\n",
    "\n",
    "cc1_vu = df['DIABETES'].value_counts()\n",
    "cc2_vu = df['HOSPITALIZACIÓN ULTIMO MES'].value_counts()\n",
    "cc3_vu = df['BIOPSIAS PREVIAS'].value_counts()\n",
    "cc4_vu = df['VOLUMEN PROSTATICO'].value_counts()\n",
    "cc5_vu = df['ANTIBIOTICO UTILIAZADO EN LA PROFILAXIS'].value_counts()\n",
    "cc6_vu = df['CUP'].value_counts()\n",
    "cc7_vu = df['ENF. CRONICA PULMONAR OBSTRUCTIVA'].value_counts()\n",
    "cc77_vu = df['BIOPSIA'].value_counts()\n",
    "cc8_vu = df['FIEBRE'].value_counts()\n",
    "cc9_vu = df['ITU'].value_counts()\n",
    "cc10_vu = df['TIPO DE CULTIVO'].value_counts()\n",
    "cc11_vu = df['AGENTE AISLADO'].value_counts()\n",
    "cc12_vu = df['PATRON DE RESISTENCIA'].value_counts()\n",
    "cc13_vu = df['HOSPITALIZACION'].value_counts()\n",
    "\n",
    "\n",
    "\n",
    "print(cc1_vu, cc2_vu, cc3_vu, cc4_vu, cc5_vu, cc6_vu, cc7_vu, cc77_vu, cc8_vu, cc9_vu, cc10_vu, cc11_vu, cc12_vu, cc13_vu)"
   ]
  },
  {
   "cell_type": "markdown",
   "metadata": {},
   "source": [
    "<div style=\"color: #CBE364; font-size:24px\">\n",
    "NORMALIZACION VALORES CATEGORICOS\n",
    "</div>\n",
    "\n",
    "<div style=\"color: #CBE364; font-size:14px\">\n",
    "En 2 columnas se nesecita normalizar los valores categoricos: <br> <br>\n",
    "ANTIBIOTICO UTILIAZADO EN LA PROFILAXIS  :   <br>\n",
    "ENF. CRONICA PULMONAR OBSTRUCTIVA  :  <br>\n",
    "\n",
    "\n",
    "</div>"
   ]
  },
  {
   "cell_type": "code",
   "execution_count": 11,
   "metadata": {},
   "outputs": [],
   "source": [
    "df.loc[df['ANTIBIOTICO UTILIAZADO EN LA PROFILAXIS'].str.startswith('FLUO'), 'ANTIBIOTICO UTILIAZADO EN LA PROFILAXIS'] = 'FLUOROQUINOLONA_AMINOGLICOSIDO'\n",
    "\n",
    "df.loc[df['ENF. CRONICA PULMONAR OBSTRUCTIVA'].str.startswith('S'), 'ENF. CRONICA PULMONAR OBSTRUCTIVA'] = 'SI'\n",
    "\n",
    "df.loc[df['BIOPSIA'].str.startswith('ADENOCARCINOMA GLEASON 6'), 'BIOPSIA'] = 'ADENOCARCINOMA GLEASON 6'\n",
    "df.loc[df['BIOPSIA'].str.startswith('ADENOCARCINOMA GLEASON 7'), 'BIOPSIA'] = 'ADENOCARCINOMA GLEASON 7'\n"
   ]
  },
  {
   "cell_type": "code",
   "execution_count": 12,
   "metadata": {},
   "outputs": [
    {
     "name": "stdout",
     "output_type": "stream",
     "text": [
      "ANTIBIOTICO UTILIAZADO EN LA PROFILAXIS\n",
      "FLUOROQUINOLONA_AMINOGLICOSIDO    448\n",
      "CEFALOSPORINA_AMINOGLUCOCIDO       56\n",
      "OTROS                              42\n",
      "OROQUINOLONAS                      18\n",
      "Name: count, dtype: int64 ENF. CRONICA PULMONAR OBSTRUCTIVA\n",
      "NO          542\n",
      "SI           20\n",
      "sin dato      2\n",
      "Name: count, dtype: int64 BIOPSIA\n",
      "NEG                                           320\n",
      "ADENOCARCINOMA GLEASON 7                      116\n",
      "ADENOCARCINOMA GLEASON 6                       54\n",
      "ADENOCARCINOMA GLEASON 8                       21\n",
      "ADENOCARCINOMA GLEASON 9                       20\n",
      "PROSTATITIS                                    14\n",
      "HIPERPLASIA PROSTATICA                         13\n",
      "ADENOCARCINOMA GLEASON 10                       4\n",
      "CARCINOMA INDIFERENCIADO DE CELULAS CLARAS      2\n",
      "Name: count, dtype: int64\n"
     ]
    }
   ],
   "source": [
    "#Se verifica el cambio\n",
    "cc5_vu = df['ANTIBIOTICO UTILIAZADO EN LA PROFILAXIS'].value_counts()\n",
    "cc7_vu = df['ENF. CRONICA PULMONAR OBSTRUCTIVA'].value_counts()\n",
    "cc77_vu = df['BIOPSIA'].value_counts()\n",
    "\n",
    "#El resultado se imprime.\n",
    "\n",
    "print(cc5_vu, cc7_vu,cc77_vu)"
   ]
  },
  {
   "cell_type": "code",
   "execution_count": 13,
   "metadata": {},
   "outputs": [
    {
     "data": {
      "text/html": [
       "<div>\n",
       "<style scoped>\n",
       "    .dataframe tbody tr th:only-of-type {\n",
       "        vertical-align: middle;\n",
       "    }\n",
       "\n",
       "    .dataframe tbody tr th {\n",
       "        vertical-align: top;\n",
       "    }\n",
       "\n",
       "    .dataframe thead th {\n",
       "        text-align: right;\n",
       "    }\n",
       "</style>\n",
       "<table border=\"1\" class=\"dataframe\">\n",
       "  <thead>\n",
       "    <tr style=\"text-align: right;\">\n",
       "      <th></th>\n",
       "      <th>EDAD</th>\n",
       "      <th>DIABETES</th>\n",
       "      <th>HOSPITALIZACIÓN ULTIMO MES</th>\n",
       "      <th>PSA</th>\n",
       "      <th>BIOPSIAS PREVIAS</th>\n",
       "      <th>VOLUMEN PROSTATICO</th>\n",
       "      <th>ANTIBIOTICO UTILIAZADO EN LA PROFILAXIS</th>\n",
       "      <th>NUMERO DE MUESTRAS TOMADAS</th>\n",
       "      <th>CUP</th>\n",
       "      <th>ENF. CRONICA PULMONAR OBSTRUCTIVA</th>\n",
       "      <th>BIOPSIA</th>\n",
       "      <th>NUMERO DE DIAS POST BIOPSIA EN QUE SE PRESENTA LA COMPLICACIÓN INFECCIOSA</th>\n",
       "      <th>FIEBRE</th>\n",
       "      <th>ITU</th>\n",
       "      <th>TIPO DE CULTIVO</th>\n",
       "      <th>AGENTE AISLADO</th>\n",
       "      <th>PATRON DE RESISTENCIA</th>\n",
       "      <th>HOSPITALIZACION</th>\n",
       "      <th>DIAS HOSPITALIZACION MQ</th>\n",
       "      <th>DIAS HOSPITALIZACIÓN UPC</th>\n",
       "    </tr>\n",
       "  </thead>\n",
       "  <tbody>\n",
       "    <tr>\n",
       "      <th>0</th>\n",
       "      <td>53</td>\n",
       "      <td>NO</td>\n",
       "      <td>NO</td>\n",
       "      <td>4.00</td>\n",
       "      <td>NO</td>\n",
       "      <td>SI</td>\n",
       "      <td>FLUOROQUINOLONA_AMINOGLICOSIDO</td>\n",
       "      <td>12</td>\n",
       "      <td>NO</td>\n",
       "      <td>NO</td>\n",
       "      <td>NEG</td>\n",
       "      <td>1</td>\n",
       "      <td>SI</td>\n",
       "      <td>NO</td>\n",
       "      <td>NO</td>\n",
       "      <td>NO</td>\n",
       "      <td>NO</td>\n",
       "      <td>SI</td>\n",
       "      <td>2</td>\n",
       "      <td>0</td>\n",
       "    </tr>\n",
       "    <tr>\n",
       "      <th>1</th>\n",
       "      <td>56</td>\n",
       "      <td>NO</td>\n",
       "      <td>NO</td>\n",
       "      <td>7.70</td>\n",
       "      <td>NO</td>\n",
       "      <td>SI</td>\n",
       "      <td>FLUOROQUINOLONA_AMINOGLICOSIDO</td>\n",
       "      <td>12</td>\n",
       "      <td>NO</td>\n",
       "      <td>NO</td>\n",
       "      <td>NEG</td>\n",
       "      <td>1</td>\n",
       "      <td>SI</td>\n",
       "      <td>NO</td>\n",
       "      <td>NO</td>\n",
       "      <td>NO</td>\n",
       "      <td>NO</td>\n",
       "      <td>SI</td>\n",
       "      <td>5</td>\n",
       "      <td>0</td>\n",
       "    </tr>\n",
       "    <tr>\n",
       "      <th>2</th>\n",
       "      <td>57</td>\n",
       "      <td>NO</td>\n",
       "      <td>NO</td>\n",
       "      <td>29.00</td>\n",
       "      <td>SI</td>\n",
       "      <td>SI</td>\n",
       "      <td>FLUOROQUINOLONA_AMINOGLICOSIDO</td>\n",
       "      <td>24</td>\n",
       "      <td>NO</td>\n",
       "      <td>NO</td>\n",
       "      <td>NEG</td>\n",
       "      <td>1</td>\n",
       "      <td>SI</td>\n",
       "      <td>NO</td>\n",
       "      <td>HEMOCULTIVO</td>\n",
       "      <td>E.COLI</td>\n",
       "      <td>AMPI R, CIPRO R, GENTA R, SULFA M R</td>\n",
       "      <td>SI</td>\n",
       "      <td>4</td>\n",
       "      <td>3</td>\n",
       "    </tr>\n",
       "    <tr>\n",
       "      <th>3</th>\n",
       "      <td>56</td>\n",
       "      <td>NO</td>\n",
       "      <td>NO</td>\n",
       "      <td>7.00</td>\n",
       "      <td>NO</td>\n",
       "      <td>SI</td>\n",
       "      <td>FLUOROQUINOLONA_AMINOGLICOSIDO</td>\n",
       "      <td>12</td>\n",
       "      <td>NO</td>\n",
       "      <td>NO</td>\n",
       "      <td>NEG</td>\n",
       "      <td>1</td>\n",
       "      <td>SI</td>\n",
       "      <td>NO</td>\n",
       "      <td>NO</td>\n",
       "      <td>NO</td>\n",
       "      <td>NO</td>\n",
       "      <td>SI</td>\n",
       "      <td>5</td>\n",
       "      <td>0</td>\n",
       "    </tr>\n",
       "    <tr>\n",
       "      <th>4</th>\n",
       "      <td>55</td>\n",
       "      <td>NO</td>\n",
       "      <td>NO</td>\n",
       "      <td>29.00</td>\n",
       "      <td>SI</td>\n",
       "      <td>SI</td>\n",
       "      <td>FLUOROQUINOLONA_AMINOGLICOSIDO</td>\n",
       "      <td>24</td>\n",
       "      <td>NO</td>\n",
       "      <td>NO</td>\n",
       "      <td>NEG</td>\n",
       "      <td>1</td>\n",
       "      <td>SI</td>\n",
       "      <td>NO</td>\n",
       "      <td>HEMOCULTIVO</td>\n",
       "      <td>E.COLI</td>\n",
       "      <td>NO</td>\n",
       "      <td>SI</td>\n",
       "      <td>4</td>\n",
       "      <td>3</td>\n",
       "    </tr>\n",
       "    <tr>\n",
       "      <th>...</th>\n",
       "      <td>...</td>\n",
       "      <td>...</td>\n",
       "      <td>...</td>\n",
       "      <td>...</td>\n",
       "      <td>...</td>\n",
       "      <td>...</td>\n",
       "      <td>...</td>\n",
       "      <td>...</td>\n",
       "      <td>...</td>\n",
       "      <td>...</td>\n",
       "      <td>...</td>\n",
       "      <td>...</td>\n",
       "      <td>...</td>\n",
       "      <td>...</td>\n",
       "      <td>...</td>\n",
       "      <td>...</td>\n",
       "      <td>...</td>\n",
       "      <td>...</td>\n",
       "      <td>...</td>\n",
       "      <td>...</td>\n",
       "    </tr>\n",
       "    <tr>\n",
       "      <th>563</th>\n",
       "      <td>67</td>\n",
       "      <td>NO</td>\n",
       "      <td>NO</td>\n",
       "      <td>6.00</td>\n",
       "      <td>NO</td>\n",
       "      <td>SI</td>\n",
       "      <td>FLUOROQUINOLONA_AMINOGLICOSIDO</td>\n",
       "      <td>12</td>\n",
       "      <td>NO</td>\n",
       "      <td>NO</td>\n",
       "      <td>ADENOCARCINOMA GLEASON 6</td>\n",
       "      <td>NO</td>\n",
       "      <td>NO</td>\n",
       "      <td>NO</td>\n",
       "      <td>NO</td>\n",
       "      <td>NO</td>\n",
       "      <td>NO</td>\n",
       "      <td>NO</td>\n",
       "      <td>0</td>\n",
       "      <td>0</td>\n",
       "    </tr>\n",
       "    <tr>\n",
       "      <th>564</th>\n",
       "      <td>64</td>\n",
       "      <td>NO</td>\n",
       "      <td>NO</td>\n",
       "      <td>4.80</td>\n",
       "      <td>NO</td>\n",
       "      <td>SI</td>\n",
       "      <td>OTROS</td>\n",
       "      <td>12</td>\n",
       "      <td>NO</td>\n",
       "      <td>NO</td>\n",
       "      <td>ADENOCARCINOMA GLEASON 7</td>\n",
       "      <td>NO</td>\n",
       "      <td>NO</td>\n",
       "      <td>NO</td>\n",
       "      <td>NO</td>\n",
       "      <td>NO</td>\n",
       "      <td>NO</td>\n",
       "      <td>NO</td>\n",
       "      <td>0</td>\n",
       "      <td>0</td>\n",
       "    </tr>\n",
       "    <tr>\n",
       "      <th>565</th>\n",
       "      <td>69</td>\n",
       "      <td>NO</td>\n",
       "      <td>NO</td>\n",
       "      <td>4.43</td>\n",
       "      <td>sin dato</td>\n",
       "      <td>sin dato</td>\n",
       "      <td>FLUOROQUINOLONA_AMINOGLICOSIDO</td>\n",
       "      <td>20</td>\n",
       "      <td>sin dato</td>\n",
       "      <td>NO</td>\n",
       "      <td>NEG</td>\n",
       "      <td>NO</td>\n",
       "      <td>NO</td>\n",
       "      <td>NO</td>\n",
       "      <td>NO</td>\n",
       "      <td>NO</td>\n",
       "      <td>NO</td>\n",
       "      <td>NO</td>\n",
       "      <td>0</td>\n",
       "      <td>0</td>\n",
       "    </tr>\n",
       "    <tr>\n",
       "      <th>566</th>\n",
       "      <td>67</td>\n",
       "      <td>NO</td>\n",
       "      <td>NO</td>\n",
       "      <td>8.00</td>\n",
       "      <td>NO</td>\n",
       "      <td>SI</td>\n",
       "      <td>FLUOROQUINOLONA_AMINOGLICOSIDO</td>\n",
       "      <td>12</td>\n",
       "      <td>NO</td>\n",
       "      <td>sin dato</td>\n",
       "      <td>ADENOCARCINOMA GLEASON 7</td>\n",
       "      <td>NO</td>\n",
       "      <td>NO</td>\n",
       "      <td>NO</td>\n",
       "      <td>NO</td>\n",
       "      <td>sin dato</td>\n",
       "      <td>NO</td>\n",
       "      <td>NO</td>\n",
       "      <td>0</td>\n",
       "      <td>0</td>\n",
       "    </tr>\n",
       "    <tr>\n",
       "      <th>567</th>\n",
       "      <td>59</td>\n",
       "      <td>NO</td>\n",
       "      <td>NO</td>\n",
       "      <td>9.00</td>\n",
       "      <td>SI</td>\n",
       "      <td>SI</td>\n",
       "      <td>FLUOROQUINOLONA_AMINOGLICOSIDO</td>\n",
       "      <td>12</td>\n",
       "      <td>NO</td>\n",
       "      <td>sin dato</td>\n",
       "      <td>NEG</td>\n",
       "      <td>NO</td>\n",
       "      <td>NO</td>\n",
       "      <td>NO</td>\n",
       "      <td>NO</td>\n",
       "      <td>NO</td>\n",
       "      <td>NO</td>\n",
       "      <td>NO</td>\n",
       "      <td>0</td>\n",
       "      <td>0</td>\n",
       "    </tr>\n",
       "  </tbody>\n",
       "</table>\n",
       "<p>564 rows × 20 columns</p>\n",
       "</div>"
      ],
      "text/plain": [
       "     EDAD DIABETES HOSPITALIZACIÓN ULTIMO MES    PSA BIOPSIAS PREVIAS  \\\n",
       "0      53       NO                         NO   4.00               NO   \n",
       "1      56       NO                         NO   7.70               NO   \n",
       "2      57       NO                         NO  29.00               SI   \n",
       "3      56       NO                         NO   7.00               NO   \n",
       "4      55       NO                         NO  29.00               SI   \n",
       "..    ...      ...                        ...    ...              ...   \n",
       "563    67       NO                         NO   6.00               NO   \n",
       "564    64       NO                         NO   4.80               NO   \n",
       "565    69       NO                         NO   4.43         sin dato   \n",
       "566    67       NO                         NO   8.00               NO   \n",
       "567    59       NO                         NO   9.00               SI   \n",
       "\n",
       "    VOLUMEN PROSTATICO ANTIBIOTICO UTILIAZADO EN LA PROFILAXIS  \\\n",
       "0                   SI          FLUOROQUINOLONA_AMINOGLICOSIDO   \n",
       "1                   SI          FLUOROQUINOLONA_AMINOGLICOSIDO   \n",
       "2                   SI          FLUOROQUINOLONA_AMINOGLICOSIDO   \n",
       "3                   SI          FLUOROQUINOLONA_AMINOGLICOSIDO   \n",
       "4                   SI          FLUOROQUINOLONA_AMINOGLICOSIDO   \n",
       "..                 ...                                     ...   \n",
       "563                 SI          FLUOROQUINOLONA_AMINOGLICOSIDO   \n",
       "564                 SI                                   OTROS   \n",
       "565           sin dato          FLUOROQUINOLONA_AMINOGLICOSIDO   \n",
       "566                 SI          FLUOROQUINOLONA_AMINOGLICOSIDO   \n",
       "567                 SI          FLUOROQUINOLONA_AMINOGLICOSIDO   \n",
       "\n",
       "     NUMERO DE MUESTRAS TOMADAS       CUP ENF. CRONICA PULMONAR OBSTRUCTIVA  \\\n",
       "0                            12        NO                                NO   \n",
       "1                            12        NO                                NO   \n",
       "2                            24        NO                                NO   \n",
       "3                            12        NO                                NO   \n",
       "4                            24        NO                                NO   \n",
       "..                          ...       ...                               ...   \n",
       "563                          12        NO                                NO   \n",
       "564                          12        NO                                NO   \n",
       "565                          20  sin dato                                NO   \n",
       "566                          12        NO                          sin dato   \n",
       "567                          12        NO                          sin dato   \n",
       "\n",
       "                      BIOPSIA  \\\n",
       "0                         NEG   \n",
       "1                         NEG   \n",
       "2                         NEG   \n",
       "3                         NEG   \n",
       "4                         NEG   \n",
       "..                        ...   \n",
       "563  ADENOCARCINOMA GLEASON 6   \n",
       "564  ADENOCARCINOMA GLEASON 7   \n",
       "565                       NEG   \n",
       "566  ADENOCARCINOMA GLEASON 7   \n",
       "567                       NEG   \n",
       "\n",
       "    NUMERO DE DIAS POST BIOPSIA EN QUE SE PRESENTA LA COMPLICACIÓN INFECCIOSA  \\\n",
       "0                                                    1                          \n",
       "1                                                    1                          \n",
       "2                                                    1                          \n",
       "3                                                    1                          \n",
       "4                                                    1                          \n",
       "..                                                 ...                          \n",
       "563                                                 NO                          \n",
       "564                                                 NO                          \n",
       "565                                                 NO                          \n",
       "566                                                 NO                          \n",
       "567                                                 NO                          \n",
       "\n",
       "    FIEBRE ITU TIPO DE CULTIVO AGENTE AISLADO  \\\n",
       "0       SI  NO              NO             NO   \n",
       "1       SI  NO              NO             NO   \n",
       "2       SI  NO     HEMOCULTIVO         E.COLI   \n",
       "3       SI  NO              NO             NO   \n",
       "4       SI  NO     HEMOCULTIVO         E.COLI   \n",
       "..     ...  ..             ...            ...   \n",
       "563     NO  NO              NO             NO   \n",
       "564     NO  NO              NO             NO   \n",
       "565     NO  NO              NO             NO   \n",
       "566     NO  NO              NO       sin dato   \n",
       "567     NO  NO              NO             NO   \n",
       "\n",
       "                    PATRON DE RESISTENCIA HOSPITALIZACION  \\\n",
       "0                                      NO              SI   \n",
       "1                                      NO              SI   \n",
       "2     AMPI R, CIPRO R, GENTA R, SULFA M R              SI   \n",
       "3                                      NO              SI   \n",
       "4                                      NO              SI   \n",
       "..                                    ...             ...   \n",
       "563                                    NO              NO   \n",
       "564                                    NO              NO   \n",
       "565                                    NO              NO   \n",
       "566                                    NO              NO   \n",
       "567                                    NO              NO   \n",
       "\n",
       "     DIAS HOSPITALIZACION MQ  DIAS HOSPITALIZACIÓN UPC  \n",
       "0                          2                         0  \n",
       "1                          5                         0  \n",
       "2                          4                         3  \n",
       "3                          5                         0  \n",
       "4                          4                         3  \n",
       "..                       ...                       ...  \n",
       "563                        0                         0  \n",
       "564                        0                         0  \n",
       "565                        0                         0  \n",
       "566                        0                         0  \n",
       "567                        0                         0  \n",
       "\n",
       "[564 rows x 20 columns]"
      ]
     },
     "execution_count": 13,
     "metadata": {},
     "output_type": "execute_result"
    }
   ],
   "source": [
    "df"
   ]
  },
  {
   "cell_type": "markdown",
   "metadata": {},
   "source": [
    "<div style=\"color: #CBE364; font-size:24px\">\n",
    "NORMALIZACION VALORES DISCRETOS<br> <br>\n",
    "</div>\n",
    "\n",
    "<div style=\"color: #CBE364; font-size:14px\">\n",
    "Revisar los valores discretos y cambiandoles el tipo al adecuado.\n",
    "\n",
    "\n",
    "</div>"
   ]
  },
  {
   "cell_type": "code",
   "execution_count": 14,
   "metadata": {},
   "outputs": [
    {
     "ename": "ValueError",
     "evalue": "invalid literal for int() with base 10: 'NO': Error while type casting for column 'NUMERO DE DIAS POST BIOPSIA EN QUE SE PRESENTA LA COMPLICACIÓN INFECCIOSA'",
     "output_type": "error",
     "traceback": [
      "\u001b[1;31m---------------------------------------------------------------------------\u001b[0m",
      "\u001b[1;31mValueError\u001b[0m                                Traceback (most recent call last)",
      "Cell \u001b[1;32mIn[14], line 5\u001b[0m\n\u001b[0;32m      1\u001b[0m columnas_a_moficar \u001b[38;5;241m=\u001b[39m {\u001b[38;5;124m\"\u001b[39m\u001b[38;5;124mEDAD\u001b[39m\u001b[38;5;124m\"\u001b[39m:\u001b[38;5;124m\"\u001b[39m\u001b[38;5;124muint8\u001b[39m\u001b[38;5;124m\"\u001b[39m, \u001b[38;5;124m'\u001b[39m\u001b[38;5;124mNUMERO DE MUESTRAS TOMADAS\u001b[39m\u001b[38;5;124m'\u001b[39m:\u001b[38;5;124m'\u001b[39m\u001b[38;5;124muint8\u001b[39m\u001b[38;5;124m'\u001b[39m, \n\u001b[0;32m      2\u001b[0m                       \u001b[38;5;124m'\u001b[39m\u001b[38;5;124mNUMERO DE DIAS POST BIOPSIA EN QUE SE PRESENTA LA COMPLICACIÓN INFECCIOSA\u001b[39m\u001b[38;5;124m'\u001b[39m:\u001b[38;5;124m'\u001b[39m\u001b[38;5;124muint8\u001b[39m\u001b[38;5;124m'\u001b[39m, \n\u001b[0;32m      3\u001b[0m                       \u001b[38;5;124m'\u001b[39m\u001b[38;5;124mDIAS HOSPITALIZACION MQ\u001b[39m\u001b[38;5;124m'\u001b[39m:\u001b[38;5;124m'\u001b[39m\u001b[38;5;124muint8\u001b[39m\u001b[38;5;124m'\u001b[39m, \u001b[38;5;124m'\u001b[39m\u001b[38;5;124mDIAS HOSPITALIZACIÓN UPC\u001b[39m\u001b[38;5;124m'\u001b[39m:\u001b[38;5;124m'\u001b[39m\u001b[38;5;124muint8\u001b[39m\u001b[38;5;124m'\u001b[39m}\n\u001b[1;32m----> 5\u001b[0m df \u001b[38;5;241m=\u001b[39m \u001b[43mdf\u001b[49m\u001b[38;5;241;43m.\u001b[39;49m\u001b[43mastype\u001b[49m\u001b[43m(\u001b[49m\u001b[43mcolumnas_a_moficar\u001b[49m\u001b[43m)\u001b[49m\n\u001b[0;32m      7\u001b[0m \u001b[38;5;28mprint\u001b[39m(df\u001b[38;5;241m.\u001b[39mdtypes)\n",
      "File \u001b[1;32mc:\\Python312\\Lib\\site-packages\\pandas\\core\\generic.py:6513\u001b[0m, in \u001b[0;36mNDFrame.astype\u001b[1;34m(self, dtype, copy, errors)\u001b[0m\n\u001b[0;32m   6511\u001b[0m \u001b[38;5;28;01melse\u001b[39;00m:\n\u001b[0;32m   6512\u001b[0m     \u001b[38;5;28;01mtry\u001b[39;00m:\n\u001b[1;32m-> 6513\u001b[0m         res_col \u001b[38;5;241m=\u001b[39m \u001b[43mcol\u001b[49m\u001b[38;5;241;43m.\u001b[39;49m\u001b[43mastype\u001b[49m\u001b[43m(\u001b[49m\u001b[43mdtype\u001b[49m\u001b[38;5;241;43m=\u001b[39;49m\u001b[43mcdt\u001b[49m\u001b[43m,\u001b[49m\u001b[43m \u001b[49m\u001b[43mcopy\u001b[49m\u001b[38;5;241;43m=\u001b[39;49m\u001b[43mcopy\u001b[49m\u001b[43m,\u001b[49m\u001b[43m \u001b[49m\u001b[43merrors\u001b[49m\u001b[38;5;241;43m=\u001b[39;49m\u001b[43merrors\u001b[49m\u001b[43m)\u001b[49m\n\u001b[0;32m   6514\u001b[0m     \u001b[38;5;28;01mexcept\u001b[39;00m \u001b[38;5;167;01mValueError\u001b[39;00m \u001b[38;5;28;01mas\u001b[39;00m ex:\n\u001b[0;32m   6515\u001b[0m         ex\u001b[38;5;241m.\u001b[39margs \u001b[38;5;241m=\u001b[39m (\n\u001b[0;32m   6516\u001b[0m             \u001b[38;5;124mf\u001b[39m\u001b[38;5;124m\"\u001b[39m\u001b[38;5;132;01m{\u001b[39;00mex\u001b[38;5;132;01m}\u001b[39;00m\u001b[38;5;124m: Error while type casting for column \u001b[39m\u001b[38;5;124m'\u001b[39m\u001b[38;5;132;01m{\u001b[39;00mcol_name\u001b[38;5;132;01m}\u001b[39;00m\u001b[38;5;124m'\u001b[39m\u001b[38;5;124m\"\u001b[39m,\n\u001b[0;32m   6517\u001b[0m         )\n",
      "File \u001b[1;32mc:\\Python312\\Lib\\site-packages\\pandas\\core\\generic.py:6534\u001b[0m, in \u001b[0;36mNDFrame.astype\u001b[1;34m(self, dtype, copy, errors)\u001b[0m\n\u001b[0;32m   6530\u001b[0m     results \u001b[38;5;241m=\u001b[39m [ser\u001b[38;5;241m.\u001b[39mastype(dtype, copy\u001b[38;5;241m=\u001b[39mcopy) \u001b[38;5;28;01mfor\u001b[39;00m _, ser \u001b[38;5;129;01min\u001b[39;00m \u001b[38;5;28mself\u001b[39m\u001b[38;5;241m.\u001b[39mitems()]\n\u001b[0;32m   6532\u001b[0m \u001b[38;5;28;01melse\u001b[39;00m:\n\u001b[0;32m   6533\u001b[0m     \u001b[38;5;66;03m# else, only a single dtype is given\u001b[39;00m\n\u001b[1;32m-> 6534\u001b[0m     new_data \u001b[38;5;241m=\u001b[39m \u001b[38;5;28;43mself\u001b[39;49m\u001b[38;5;241;43m.\u001b[39;49m\u001b[43m_mgr\u001b[49m\u001b[38;5;241;43m.\u001b[39;49m\u001b[43mastype\u001b[49m\u001b[43m(\u001b[49m\u001b[43mdtype\u001b[49m\u001b[38;5;241;43m=\u001b[39;49m\u001b[43mdtype\u001b[49m\u001b[43m,\u001b[49m\u001b[43m \u001b[49m\u001b[43mcopy\u001b[49m\u001b[38;5;241;43m=\u001b[39;49m\u001b[43mcopy\u001b[49m\u001b[43m,\u001b[49m\u001b[43m \u001b[49m\u001b[43merrors\u001b[49m\u001b[38;5;241;43m=\u001b[39;49m\u001b[43merrors\u001b[49m\u001b[43m)\u001b[49m\n\u001b[0;32m   6535\u001b[0m     res \u001b[38;5;241m=\u001b[39m \u001b[38;5;28mself\u001b[39m\u001b[38;5;241m.\u001b[39m_constructor_from_mgr(new_data, axes\u001b[38;5;241m=\u001b[39mnew_data\u001b[38;5;241m.\u001b[39maxes)\n\u001b[0;32m   6536\u001b[0m     \u001b[38;5;28;01mreturn\u001b[39;00m res\u001b[38;5;241m.\u001b[39m__finalize__(\u001b[38;5;28mself\u001b[39m, method\u001b[38;5;241m=\u001b[39m\u001b[38;5;124m\"\u001b[39m\u001b[38;5;124mastype\u001b[39m\u001b[38;5;124m\"\u001b[39m)\n",
      "File \u001b[1;32mc:\\Python312\\Lib\\site-packages\\pandas\\core\\internals\\managers.py:414\u001b[0m, in \u001b[0;36mBaseBlockManager.astype\u001b[1;34m(self, dtype, copy, errors)\u001b[0m\n\u001b[0;32m    411\u001b[0m \u001b[38;5;28;01melif\u001b[39;00m using_copy_on_write():\n\u001b[0;32m    412\u001b[0m     copy \u001b[38;5;241m=\u001b[39m \u001b[38;5;28;01mFalse\u001b[39;00m\n\u001b[1;32m--> 414\u001b[0m \u001b[38;5;28;01mreturn\u001b[39;00m \u001b[38;5;28;43mself\u001b[39;49m\u001b[38;5;241;43m.\u001b[39;49m\u001b[43mapply\u001b[49m\u001b[43m(\u001b[49m\n\u001b[0;32m    415\u001b[0m \u001b[43m    \u001b[49m\u001b[38;5;124;43m\"\u001b[39;49m\u001b[38;5;124;43mastype\u001b[39;49m\u001b[38;5;124;43m\"\u001b[39;49m\u001b[43m,\u001b[49m\n\u001b[0;32m    416\u001b[0m \u001b[43m    \u001b[49m\u001b[43mdtype\u001b[49m\u001b[38;5;241;43m=\u001b[39;49m\u001b[43mdtype\u001b[49m\u001b[43m,\u001b[49m\n\u001b[0;32m    417\u001b[0m \u001b[43m    \u001b[49m\u001b[43mcopy\u001b[49m\u001b[38;5;241;43m=\u001b[39;49m\u001b[43mcopy\u001b[49m\u001b[43m,\u001b[49m\n\u001b[0;32m    418\u001b[0m \u001b[43m    \u001b[49m\u001b[43merrors\u001b[49m\u001b[38;5;241;43m=\u001b[39;49m\u001b[43merrors\u001b[49m\u001b[43m,\u001b[49m\n\u001b[0;32m    419\u001b[0m \u001b[43m    \u001b[49m\u001b[43musing_cow\u001b[49m\u001b[38;5;241;43m=\u001b[39;49m\u001b[43musing_copy_on_write\u001b[49m\u001b[43m(\u001b[49m\u001b[43m)\u001b[49m\u001b[43m,\u001b[49m\n\u001b[0;32m    420\u001b[0m \u001b[43m\u001b[49m\u001b[43m)\u001b[49m\n",
      "File \u001b[1;32mc:\\Python312\\Lib\\site-packages\\pandas\\core\\internals\\managers.py:354\u001b[0m, in \u001b[0;36mBaseBlockManager.apply\u001b[1;34m(self, f, align_keys, **kwargs)\u001b[0m\n\u001b[0;32m    352\u001b[0m         applied \u001b[38;5;241m=\u001b[39m b\u001b[38;5;241m.\u001b[39mapply(f, \u001b[38;5;241m*\u001b[39m\u001b[38;5;241m*\u001b[39mkwargs)\n\u001b[0;32m    353\u001b[0m     \u001b[38;5;28;01melse\u001b[39;00m:\n\u001b[1;32m--> 354\u001b[0m         applied \u001b[38;5;241m=\u001b[39m \u001b[38;5;28;43mgetattr\u001b[39;49m\u001b[43m(\u001b[49m\u001b[43mb\u001b[49m\u001b[43m,\u001b[49m\u001b[43m \u001b[49m\u001b[43mf\u001b[49m\u001b[43m)\u001b[49m\u001b[43m(\u001b[49m\u001b[38;5;241;43m*\u001b[39;49m\u001b[38;5;241;43m*\u001b[39;49m\u001b[43mkwargs\u001b[49m\u001b[43m)\u001b[49m\n\u001b[0;32m    355\u001b[0m     result_blocks \u001b[38;5;241m=\u001b[39m extend_blocks(applied, result_blocks)\n\u001b[0;32m    357\u001b[0m out \u001b[38;5;241m=\u001b[39m \u001b[38;5;28mtype\u001b[39m(\u001b[38;5;28mself\u001b[39m)\u001b[38;5;241m.\u001b[39mfrom_blocks(result_blocks, \u001b[38;5;28mself\u001b[39m\u001b[38;5;241m.\u001b[39maxes)\n",
      "File \u001b[1;32mc:\\Python312\\Lib\\site-packages\\pandas\\core\\internals\\blocks.py:616\u001b[0m, in \u001b[0;36mBlock.astype\u001b[1;34m(self, dtype, copy, errors, using_cow)\u001b[0m\n\u001b[0;32m    596\u001b[0m \u001b[38;5;250m\u001b[39m\u001b[38;5;124;03m\"\"\"\u001b[39;00m\n\u001b[0;32m    597\u001b[0m \u001b[38;5;124;03mCoerce to the new dtype.\u001b[39;00m\n\u001b[0;32m    598\u001b[0m \n\u001b[1;32m   (...)\u001b[0m\n\u001b[0;32m    612\u001b[0m \u001b[38;5;124;03mBlock\u001b[39;00m\n\u001b[0;32m    613\u001b[0m \u001b[38;5;124;03m\"\"\"\u001b[39;00m\n\u001b[0;32m    614\u001b[0m values \u001b[38;5;241m=\u001b[39m \u001b[38;5;28mself\u001b[39m\u001b[38;5;241m.\u001b[39mvalues\n\u001b[1;32m--> 616\u001b[0m new_values \u001b[38;5;241m=\u001b[39m \u001b[43mastype_array_safe\u001b[49m\u001b[43m(\u001b[49m\u001b[43mvalues\u001b[49m\u001b[43m,\u001b[49m\u001b[43m \u001b[49m\u001b[43mdtype\u001b[49m\u001b[43m,\u001b[49m\u001b[43m \u001b[49m\u001b[43mcopy\u001b[49m\u001b[38;5;241;43m=\u001b[39;49m\u001b[43mcopy\u001b[49m\u001b[43m,\u001b[49m\u001b[43m \u001b[49m\u001b[43merrors\u001b[49m\u001b[38;5;241;43m=\u001b[39;49m\u001b[43merrors\u001b[49m\u001b[43m)\u001b[49m\n\u001b[0;32m    618\u001b[0m new_values \u001b[38;5;241m=\u001b[39m maybe_coerce_values(new_values)\n\u001b[0;32m    620\u001b[0m refs \u001b[38;5;241m=\u001b[39m \u001b[38;5;28;01mNone\u001b[39;00m\n",
      "File \u001b[1;32mc:\\Python312\\Lib\\site-packages\\pandas\\core\\dtypes\\astype.py:238\u001b[0m, in \u001b[0;36mastype_array_safe\u001b[1;34m(values, dtype, copy, errors)\u001b[0m\n\u001b[0;32m    235\u001b[0m     dtype \u001b[38;5;241m=\u001b[39m dtype\u001b[38;5;241m.\u001b[39mnumpy_dtype\n\u001b[0;32m    237\u001b[0m \u001b[38;5;28;01mtry\u001b[39;00m:\n\u001b[1;32m--> 238\u001b[0m     new_values \u001b[38;5;241m=\u001b[39m \u001b[43mastype_array\u001b[49m\u001b[43m(\u001b[49m\u001b[43mvalues\u001b[49m\u001b[43m,\u001b[49m\u001b[43m \u001b[49m\u001b[43mdtype\u001b[49m\u001b[43m,\u001b[49m\u001b[43m \u001b[49m\u001b[43mcopy\u001b[49m\u001b[38;5;241;43m=\u001b[39;49m\u001b[43mcopy\u001b[49m\u001b[43m)\u001b[49m\n\u001b[0;32m    239\u001b[0m \u001b[38;5;28;01mexcept\u001b[39;00m (\u001b[38;5;167;01mValueError\u001b[39;00m, \u001b[38;5;167;01mTypeError\u001b[39;00m):\n\u001b[0;32m    240\u001b[0m     \u001b[38;5;66;03m# e.g. _astype_nansafe can fail on object-dtype of strings\u001b[39;00m\n\u001b[0;32m    241\u001b[0m     \u001b[38;5;66;03m#  trying to convert to float\u001b[39;00m\n\u001b[0;32m    242\u001b[0m     \u001b[38;5;28;01mif\u001b[39;00m errors \u001b[38;5;241m==\u001b[39m \u001b[38;5;124m\"\u001b[39m\u001b[38;5;124mignore\u001b[39m\u001b[38;5;124m\"\u001b[39m:\n",
      "File \u001b[1;32mc:\\Python312\\Lib\\site-packages\\pandas\\core\\dtypes\\astype.py:183\u001b[0m, in \u001b[0;36mastype_array\u001b[1;34m(values, dtype, copy)\u001b[0m\n\u001b[0;32m    180\u001b[0m     values \u001b[38;5;241m=\u001b[39m values\u001b[38;5;241m.\u001b[39mastype(dtype, copy\u001b[38;5;241m=\u001b[39mcopy)\n\u001b[0;32m    182\u001b[0m \u001b[38;5;28;01melse\u001b[39;00m:\n\u001b[1;32m--> 183\u001b[0m     values \u001b[38;5;241m=\u001b[39m \u001b[43m_astype_nansafe\u001b[49m\u001b[43m(\u001b[49m\u001b[43mvalues\u001b[49m\u001b[43m,\u001b[49m\u001b[43m \u001b[49m\u001b[43mdtype\u001b[49m\u001b[43m,\u001b[49m\u001b[43m \u001b[49m\u001b[43mcopy\u001b[49m\u001b[38;5;241;43m=\u001b[39;49m\u001b[43mcopy\u001b[49m\u001b[43m)\u001b[49m\n\u001b[0;32m    185\u001b[0m \u001b[38;5;66;03m# in pandas we don't store numpy str dtypes, so convert to object\u001b[39;00m\n\u001b[0;32m    186\u001b[0m \u001b[38;5;28;01mif\u001b[39;00m \u001b[38;5;28misinstance\u001b[39m(dtype, np\u001b[38;5;241m.\u001b[39mdtype) \u001b[38;5;129;01mand\u001b[39;00m \u001b[38;5;28missubclass\u001b[39m(values\u001b[38;5;241m.\u001b[39mdtype\u001b[38;5;241m.\u001b[39mtype, \u001b[38;5;28mstr\u001b[39m):\n",
      "File \u001b[1;32mc:\\Python312\\Lib\\site-packages\\pandas\\core\\dtypes\\astype.py:134\u001b[0m, in \u001b[0;36m_astype_nansafe\u001b[1;34m(arr, dtype, copy, skipna)\u001b[0m\n\u001b[0;32m    130\u001b[0m     \u001b[38;5;28;01mraise\u001b[39;00m \u001b[38;5;167;01mValueError\u001b[39;00m(msg)\n\u001b[0;32m    132\u001b[0m \u001b[38;5;28;01mif\u001b[39;00m copy \u001b[38;5;129;01mor\u001b[39;00m arr\u001b[38;5;241m.\u001b[39mdtype \u001b[38;5;241m==\u001b[39m \u001b[38;5;28mobject\u001b[39m \u001b[38;5;129;01mor\u001b[39;00m dtype \u001b[38;5;241m==\u001b[39m \u001b[38;5;28mobject\u001b[39m:\n\u001b[0;32m    133\u001b[0m     \u001b[38;5;66;03m# Explicit copy, or required since NumPy can't view from / to object.\u001b[39;00m\n\u001b[1;32m--> 134\u001b[0m     \u001b[38;5;28;01mreturn\u001b[39;00m \u001b[43marr\u001b[49m\u001b[38;5;241;43m.\u001b[39;49m\u001b[43mastype\u001b[49m\u001b[43m(\u001b[49m\u001b[43mdtype\u001b[49m\u001b[43m,\u001b[49m\u001b[43m \u001b[49m\u001b[43mcopy\u001b[49m\u001b[38;5;241;43m=\u001b[39;49m\u001b[38;5;28;43;01mTrue\u001b[39;49;00m\u001b[43m)\u001b[49m\n\u001b[0;32m    136\u001b[0m \u001b[38;5;28;01mreturn\u001b[39;00m arr\u001b[38;5;241m.\u001b[39mastype(dtype, copy\u001b[38;5;241m=\u001b[39mcopy)\n",
      "\u001b[1;31mValueError\u001b[0m: invalid literal for int() with base 10: 'NO': Error while type casting for column 'NUMERO DE DIAS POST BIOPSIA EN QUE SE PRESENTA LA COMPLICACIÓN INFECCIOSA'"
     ]
    }
   ],
   "source": [
    "columnas_a_moficar = {\"EDAD\":\"uint8\", 'NUMERO DE MUESTRAS TOMADAS':'uint8', \n",
    "                      'NUMERO DE DIAS POST BIOPSIA EN QUE SE PRESENTA LA COMPLICACIÓN INFECCIOSA':'uint8', \n",
    "                      'DIAS HOSPITALIZACION MQ':'uint8', 'DIAS HOSPITALIZACIÓN UPC':'uint8'}\n",
    "\n",
    "df = df.astype(columnas_a_moficar)\n",
    "\n",
    "print(df.dtypes)"
   ]
  },
  {
   "cell_type": "code",
   "execution_count": 15,
   "metadata": {},
   "outputs": [],
   "source": [
    "# La columna 'NUMERO DE DIAS POST BIOPSIA EN QUE SE PRESENTA LA COMPLICACIÓN INFECCIOSA'\n",
    "#Muestra que tiene un valor del tipo string = 'NO' y no un integral. se remplazara por '0'\n",
    "\n",
    "df.loc[df['NUMERO DE DIAS POST BIOPSIA EN QUE SE PRESENTA LA COMPLICACIÓN INFECCIOSA'].str.startswith('NO'), 'NUMERO DE DIAS POST BIOPSIA EN QUE SE PRESENTA LA COMPLICACIÓN INFECCIOSA'] = 0"
   ]
  },
  {
   "cell_type": "code",
   "execution_count": 16,
   "metadata": {},
   "outputs": [
    {
     "name": "stdout",
     "output_type": "stream",
     "text": [
      "EDAD                                                                           uint8\n",
      "DIABETES                                                                      object\n",
      "HOSPITALIZACIÓN ULTIMO MES                                                    object\n",
      "PSA                                                                          float64\n",
      "BIOPSIAS PREVIAS                                                              object\n",
      "VOLUMEN PROSTATICO                                                            object\n",
      "ANTIBIOTICO UTILIAZADO EN LA PROFILAXIS                                       object\n",
      "NUMERO DE MUESTRAS TOMADAS                                                     uint8\n",
      "CUP                                                                           object\n",
      "ENF. CRONICA PULMONAR OBSTRUCTIVA                                             object\n",
      "BIOPSIA                                                                       object\n",
      "NUMERO DE DIAS POST BIOPSIA EN QUE SE PRESENTA LA COMPLICACIÓN INFECCIOSA      uint8\n",
      "FIEBRE                                                                        object\n",
      "ITU                                                                           object\n",
      "TIPO DE CULTIVO                                                               object\n",
      "AGENTE AISLADO                                                                object\n",
      "PATRON DE RESISTENCIA                                                         object\n",
      "HOSPITALIZACION                                                               object\n",
      "DIAS HOSPITALIZACION MQ                                                        uint8\n",
      "DIAS HOSPITALIZACIÓN UPC                                                       uint8\n",
      "dtype: object\n"
     ]
    }
   ],
   "source": [
    "#volvemos a correr el codigo:\n",
    "columnas_a_moficar = {\"EDAD\":\"uint8\", 'NUMERO DE MUESTRAS TOMADAS':'uint8', \n",
    "                      'NUMERO DE DIAS POST BIOPSIA EN QUE SE PRESENTA LA COMPLICACIÓN INFECCIOSA':'uint8', \n",
    "                      'DIAS HOSPITALIZACION MQ':'uint8', 'DIAS HOSPITALIZACIÓN UPC':'uint8'}\n",
    "\n",
    "df = df.astype(columnas_a_moficar)\n",
    "\n",
    "print(df.dtypes)"
   ]
  },
  {
   "cell_type": "markdown",
   "metadata": {},
   "source": [
    "<div style=\"text-align: center; color: yellowgreen; font-size:32px; padding:20px \">\n",
    ".       Outlayers       .       \n",
    "\n",
    "</div>"
   ]
  },
  {
   "cell_type": "code",
   "execution_count": 17,
   "metadata": {},
   "outputs": [],
   "source": [
    "#Creo una copia del dataframe limpio para revisar los OUTLAYERS.\n",
    "df1 =df.copy()"
   ]
  },
  {
   "cell_type": "code",
   "execution_count": 18,
   "metadata": {},
   "outputs": [
    {
     "data": {
      "image/png": "[encoded data removed]",
      "text/plain": [
       "<Figure size 1200x600 with 2 Axes>"
      ]
     },
     "metadata": {},
     "output_type": "display_data"
    }
   ],
   "source": [
    "fig, axs = plt.subplots(1, 2, figsize=(12, 6), gridspec_kw={'width_ratios':[2,1]})\n",
    "\n",
    "\n",
    "df1.boxplot(ax=axs[0])\n",
    "df1['DIAS HOSPITALIZACION MQ'].plot(kind='box', ax=axs[1])\n",
    "\n",
    "\n",
    "#titulos\n",
    "axs[0].set_title('Datos dataframe')\n",
    "\n",
    "axs[1].set_title('Boxplot de DIAS HOSPITALIZACION MQ')\n",
    "\n",
    "\n",
    "\n",
    "plt.tight_layout()\n",
    "plt.show()"
   ]
  },
  {
   "cell_type": "markdown",
   "metadata": {},
   "source": [
    "<div style=\"color: #CBE364; font-size:24px\">\n",
    "CRITERIO OUTLAYERS<br> <br>\n",
    "</div>\n",
    "\n",
    "<div style=\"color: #CBE364; font-size:14px\">\n",
    "Columna 'EDAD' :  Se puede ver que hay 2 valores que sobrepasan la barrear de los 140 anios. Sopecho que es un error de <br>. Digitacion. Por tal motivo eliminare el 1 en ambos valores para dejarlos en 40 anios. <br> <br>\n",
    "Columna Dias de Hospitalizacion: Eliminare las filas que tienen mas de 5 dias de Hospitalizacion ya que estos pasientes <br> estarian indicando una complicacion mas severa.\n",
    "\n",
    "\n",
    "</div>"
   ]
  },
  {
   "cell_type": "code",
   "execution_count": 19,
   "metadata": {},
   "outputs": [],
   "source": [
    "df1['EDAD']= df1['EDAD'].replace(151,51)\n",
    "df1['EDAD']= df1['EDAD'].replace(143,43)"
   ]
  },
  {
   "cell_type": "code",
   "execution_count": 20,
   "metadata": {},
   "outputs": [
    {
     "data": {
      "text/plain": [
       "NUMERO DE MUESTRAS TOMADAS\n",
       "12    431\n",
       "24     42\n",
       "18     35\n",
       "6      25\n",
       "10     10\n",
       "4       6\n",
       "20      4\n",
       "16      3\n",
       "8       2\n",
       "15      2\n",
       "22      2\n",
       "14      2\n",
       "Name: count, dtype: int64"
      ]
     },
     "execution_count": 20,
     "metadata": {},
     "output_type": "execute_result"
    }
   ],
   "source": [
    "df1['NUMERO DE MUESTRAS TOMADAS'].value_counts()"
   ]
  },
  {
   "cell_type": "code",
   "execution_count": 21,
   "metadata": {},
   "outputs": [
    {
     "data": {
      "text/plain": [
       "(564, 20)"
      ]
     },
     "execution_count": 21,
     "metadata": {},
     "output_type": "execute_result"
    }
   ],
   "source": [
    "df1.shape"
   ]
  },
  {
   "cell_type": "code",
   "execution_count": 22,
   "metadata": {},
   "outputs": [
    {
     "data": {
      "text/plain": [
       "(514, 20)"
      ]
     },
     "execution_count": 22,
     "metadata": {},
     "output_type": "execute_result"
    }
   ],
   "source": [
    "df1 = df1[ (df1['NUMERO DE MUESTRAS TOMADAS'] <= 18) & # El numero de muestras tomadas igual o menor que 18\n",
    "                                                   \n",
    "                           (df1['DIAS HOSPITALIZACION MQ'] < 6) # Que sea menor a 6 dias hospitalizados \n",
    "                           ]\n",
    "df1.shape"
   ]
  },
  {
   "cell_type": "code",
   "execution_count": 23,
   "metadata": {},
   "outputs": [
    {
     "data": {
      "image/png": "[encoded data removed]",
      "text/plain": [
       "<Figure size 1200x600 with 2 Axes>"
      ]
     },
     "metadata": {},
     "output_type": "display_data"
    }
   ],
   "source": [
    "# Verificamos los OUTLAYERS\n",
    "fig, axs = plt.subplots(1, 2, figsize=(12, 6), gridspec_kw={'width_ratios':[2,1]})\n",
    "\n",
    "\n",
    "df1.boxplot(ax=axs[0])\n",
    "df1['DIAS HOSPITALIZACION MQ'].plot(kind='box', ax=axs[1])\n",
    "\n",
    "\n",
    "#titulos\n",
    "axs[0].set_title('Datos dataframe')\n",
    "\n",
    "axs[1].set_title('Boxplot de DIAS HOSPITALIZACION MQ')\n",
    "\n",
    "\n",
    "\n",
    "plt.tight_layout()\n",
    "plt.show()"
   ]
  },
  {
   "cell_type": "markdown",
   "metadata": {},
   "source": [
    "<div style=\"text-align: center; color: yellowgreen; font-size:32px; padding:20px \">\n",
    ".       TRANSFORMACIONES       .  <BR>   \n",
    ".       INTERVALOS      .   <br>  \n",
    "\n",
    "</div>\n"
   ]
  },
  {
   "cell_type": "markdown",
   "metadata": {},
   "source": [
    "<div style=\"color: #CBE364; font-size:24px\">\n",
    "CRITERIO TRASNFORMACIONES INTERVALOS\n",
    "</div>\n",
    "\n",
    "<div style=\"color: #CBE364; font-size:14px\">\n",
    "Para reducir la complejidad del modelo agrupare las siguientes columnas en intervalos  <br>\n",
    "\n",
    "En la columna de EDAD:  Fijamos los siguientes rangos: 0-29,30-49, 50+  <br>\n",
    "En la columna PSA (ANTIGENO PROSTATICO) rangos: 0-9, 10-29, 30+. <br>\n",
    "\n",
    "</div>"
   ]
  },
  {
   "cell_type": "code",
   "execution_count": 24,
   "metadata": {},
   "outputs": [],
   "source": [
    "# Copiamos nuestro dataframe para hacer las transformaciones.\n",
    "df2 = df1.copy()"
   ]
  },
  {
   "cell_type": "code",
   "execution_count": 26,
   "metadata": {},
   "outputs": [],
   "source": [
    "# Creamos las primeras columas con las clasificaciones para 'EDAD'\n",
    "intervalos_edad = [0,30,50, 60, 70,float('inf')]\n",
    "etiquetas_edad = ['Edad 0-29', 'Edad 30-49', 'Edad 50-59' , 'Edad 60-69','70+']\n",
    "df2['RANGO EDAD'] = pd.cut(df2['EDAD'], bins=intervalos_edad, labels=etiquetas_edad, right=False)"
   ]
  },
  {
   "cell_type": "code",
   "execution_count": 195,
   "metadata": {},
   "outputs": [],
   "source": [
    "# Analizo cuales son los valores mas comunes para crear la clasificacion EN EL ANTIGENO PROSTATICO PSA.\n",
    "# df2['PSA'].value_counts()"
   ]
  },
  {
   "cell_type": "code",
   "execution_count": 27,
   "metadata": {},
   "outputs": [],
   "source": [
    "# Creamos las primeras columas con las clasificaciones para 'PSA'   <Eliminamos la clasificacion \n",
    "# ya que en la matriz de relaciones ignorabas algunos valores.\n",
    "\n",
    "\n",
    "intervalos_PSA = [0,6,7,8,9,10, float('inf')]\n",
    "etiquetas_PSA = ['PSA 0-5.99','PSA 6-6.99','PSA 7-7.99','PSA 8-8.99','PSA 9-9.99','PSA 10+']\n",
    "df2['RANGO PSA'] = pd.cut(df2['PSA'], bins=intervalos_PSA, labels=etiquetas_PSA, right=False)"
   ]
  },
  {
   "cell_type": "code",
   "execution_count": 28,
   "metadata": {},
   "outputs": [],
   "source": [
    "# Despues de haber creado las columnas con los rangos de clasificacion procedo a eliminar las columnas.\n",
    "df2 = df2.drop(['EDAD', 'PSA'], axis=1)"
   ]
  },
  {
   "cell_type": "code",
   "execution_count": 29,
   "metadata": {},
   "outputs": [],
   "source": [
    "#Salvamos el dataframe en un csv para poder trabajar las transformaciones las columnas categoricas a discretas.\n",
    "df2.to_csv('Clean_Hospitalization.csv', index=False)"
   ]
  },
  {
   "cell_type": "markdown",
   "metadata": {},
   "source": [
    "<div style=\"text-align: center; color: yellowgreen; font-size:32px; padding:20px \">\n",
    ".       TRANSFORMACIONES       .  <BR>   \n",
    ".       CATEGORICAS --> DISCRETAS     .   <br>  \n",
    "\n",
    "</div>"
   ]
  }
 ],
 "metadata": {
  "kernelspec": {
   "display_name": "Python 3",
   "language": "python",
   "name": "python3"
  },
  "language_info": {
   "codemirror_mode": {
    "name": "ipython",
    "version": 3
   },
   "file_extension": ".py",
   "mimetype": "text/x-python",
   "name": "python",
   "nbconvert_exporter": "python",
   "pygments_lexer": "ipython3",
   "version": "3.12.1"
  }
 },
 "nbformat": 4,
 "nbformat_minor": 2
}
